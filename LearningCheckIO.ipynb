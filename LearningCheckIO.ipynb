{
 "cells": [
  {
   "cell_type": "markdown",
   "metadata": {},
   "source": [
    "## remove_all_before"
   ]
  },
  {
   "cell_type": "code",
   "execution_count": 25,
   "metadata": {},
   "outputs": [],
   "source": [
    "from typing import Iterable\n",
    "\n",
    "def remove_all_before(items: list, border: int) -> Iterable:\n",
    "    \n",
    "    return items[items.index(border):] if border in items else items"
   ]
  },
  {
   "cell_type": "code",
   "execution_count": 24,
   "metadata": {},
   "outputs": [
    {
     "name": "stdout",
     "output_type": "stream",
     "text": [
      "[7, 7, 7, 7, 7, 7, 7, 7, 7]\n"
     ]
    }
   ],
   "source": [
    "from typing import Iterable\n",
    "\n",
    "\n",
    "def remove_all_before(items, border) -> Iterable:\n",
    "    # your code here\n",
    "    newlist = []\n",
    "    if border in items:\n",
    "        item = items.index(border)\n",
    "        newlist = items[item:len(items)]\n",
    "    else:\n",
    "        newlist = items\n",
    "\n",
    "    return newlist\n",
    "\n",
    "print(remove_all_before([7, 7, 7, 7, 7, 7, 7, 7, 7], 7))"
   ]
  },
  {
   "cell_type": "markdown",
   "metadata": {},
   "source": [
    "# Are all symbols in upper case?"
   ]
  },
  {
   "cell_type": "code",
   "execution_count": 116,
   "metadata": {},
   "outputs": [
    {
     "name": "stdout",
     "output_type": "stream",
     "text": [
      "False\n"
     ]
    }
   ],
   "source": [
    "def is_all_upper(text: str) -> bool:\n",
    "    # your code here\n",
    "    s = len(text)\n",
    "    if text.isupper():\n",
    "        return True\n",
    "    elif s == 0:\n",
    "        return True\n",
    "    elif text.isdigit():\n",
    "        return True\n",
    "    elif text.isspace():\n",
    "        return True\n",
    "    else:\n",
    "        return False\n",
    "    \n",
    "print(is_all_upper('Hi  '))"
   ]
  },
  {
   "cell_type": "code",
   "execution_count": 103,
   "metadata": {},
   "outputs": [
    {
     "name": "stdout",
     "output_type": "stream",
     "text": [
      "False\n"
     ]
    }
   ],
   "source": [
    "def is_all_upper(text: str) -> bool:\n",
    "    # your code here\n",
    "    s = len(text)\n",
    "    if text.isupper():\n",
    "        return True\n",
    "    else:\n",
    "        return False\n",
    "    \n",
    "print(is_all_upper('Hi'))"
   ]
  },
  {
   "cell_type": "markdown",
   "metadata": {},
   "source": [
    "# Sum the numbers."
   ]
  },
  {
   "cell_type": "code",
   "execution_count": 160,
   "metadata": {},
   "outputs": [
    {
     "name": "stdout",
     "output_type": "stream",
     "text": [
      "3755\n"
     ]
    }
   ],
   "source": [
    "s = 'Petersen between 1845 and 1910 year'\n",
    "nums = s.split()\n",
    "digit = []\n",
    "for i in nums:\n",
    "    if i.isdigit():\n",
    "        digit.append(int(i))\n",
    "sum = 0\n",
    "for i in digit:\n",
    "    sum += i\n",
    "print(sum)"
   ]
  },
  {
   "cell_type": "markdown",
   "metadata": {},
   "source": [
    "# Even the Last"
   ]
  },
  {
   "cell_type": "code",
   "execution_count": 174,
   "metadata": {},
   "outputs": [
    {
     "name": "stdout",
     "output_type": "stream",
     "text": [
      "0\n",
      "16\n"
     ]
    }
   ],
   "source": [
    "def checkio(array: list) -> int:\n",
    "    if array == []:\n",
    "        return 0\n",
    "    else:\n",
    "        newarray = array[0:len(array):2]\n",
    "        lastnum = array[-1]\n",
    "        sum = 0\n",
    "        for i in newarray:\n",
    "            sum += i\n",
    "            mult = lastnum * sum\n",
    "\n",
    "    return mult"
   ]
  },
  {
   "cell_type": "code",
   "execution_count": null,
   "metadata": {},
   "outputs": [],
   "source": []
  },
  {
   "cell_type": "code",
   "execution_count": null,
   "metadata": {},
   "outputs": [],
   "source": []
  },
  {
   "cell_type": "code",
   "execution_count": null,
   "metadata": {},
   "outputs": [],
   "source": []
  },
  {
   "cell_type": "code",
   "execution_count": null,
   "metadata": {},
   "outputs": [],
   "source": []
  }
 ],
 "metadata": {
  "kernelspec": {
   "display_name": "Python 3",
   "language": "python",
   "name": "python3"
  },
  "language_info": {
   "codemirror_mode": {
    "name": "ipython",
    "version": 3
   },
   "file_extension": ".py",
   "mimetype": "text/x-python",
   "name": "python",
   "nbconvert_exporter": "python",
   "pygments_lexer": "ipython3",
   "version": "3.7.4"
  }
 },
 "nbformat": 4,
 "nbformat_minor": 2
}
