{
 "cells": [
  {
   "cell_type": "markdown",
   "metadata": {},
   "source": [
    "# Ряд - 1"
   ]
  },
  {
   "cell_type": "code",
   "execution_count": null,
   "metadata": {},
   "outputs": [],
   "source": [
    "a, b = int(input()), int(input())\n",
    "for i in range (a, b + 1):\n",
    "    print(i, end = ' ')"
   ]
  },
  {
   "cell_type": "markdown",
   "metadata": {},
   "source": [
    "# Ряд - 2"
   ]
  },
  {
   "cell_type": "code",
   "execution_count": null,
   "metadata": {},
   "outputs": [],
   "source": [
    "a, b = int(input()), int(input())\n",
    "if b > a:\n",
    "    for i in range(a, b + 1):\n",
    "        print(i, end=' ')\n",
    "elif a > b:\n",
    "    for j in range(a, b - 1, -1):\n",
    "        print(j, end=' ')"
   ]
  },
  {
   "cell_type": "markdown",
   "metadata": {},
   "source": [
    "# Сумма квадратов"
   ]
  },
  {
   "cell_type": "code",
   "execution_count": null,
   "metadata": {},
   "outputs": [],
   "source": [
    "n = int(input())\n",
    "sum = 0\n",
    "for i in range(1, n + 1):\n",
    "        sum += i ** 2\n",
    "print(sum)"
   ]
  },
  {
   "cell_type": "markdown",
   "metadata": {},
   "source": [
    "# Флаги"
   ]
  },
  {
   "cell_type": "code",
   "execution_count": null,
   "metadata": {},
   "outputs": [],
   "source": [
    "n = int(input())\n",
    "for i in range(1, n+1):\n",
    "    print('+___', end=' ')\n",
    "print()\n",
    "for i in range(1, n+1):\n",
    "    print(f'|{i} /', end=' ')\n",
    "print()\n",
    "for i in range(1, n+1):\n",
    "    print(\"|__\\\", end=' ')\n",
    "print()\n",
    "for i in range(1, n+1):\n",
    "    print('|   ', end=' ')"
   ]
  },
  {
   "cell_type": "markdown",
   "metadata": {},
   "source": [
    "# Лесенка"
   ]
  },
  {
   "cell_type": "code",
   "execution_count": null,
   "metadata": {},
   "outputs": [],
   "source": [
    "n = int(input()) ## звёздочка означает передать в принт каждый результат отдельно\n",
    "for i in range(1, n+1):\n",
    "    print(*range(1, i+1), sep='')"
   ]
  },
  {
   "cell_type": "markdown",
   "metadata": {},
   "source": [
    "# Замечательные числа - 1"
   ]
  },
  {
   "cell_type": "code",
   "execution_count": null,
   "metadata": {},
   "outputs": [],
   "source": [
    "for i in range(1, 100):\n",
    "    s = i ** 2\n",
    "    if 9 < s < 100:\n",
    "        print(s)"
   ]
  },
  {
   "cell_type": "markdown",
   "metadata": {},
   "source": [
    "# Четные индексы"
   ]
  },
  {
   "cell_type": "code",
   "execution_count": null,
   "metadata": {},
   "outputs": [],
   "source": [
    "a = input()\n",
    "a = a.split()\n",
    "print(' '.join(a[0:len(a):2]))"
   ]
  },
  {
   "cell_type": "markdown",
   "metadata": {},
   "source": [
    "# Четные элементы"
   ]
  },
  {
   "cell_type": "code",
   "execution_count": null,
   "metadata": {},
   "outputs": [],
   "source": [
    "a = input().split()\n",
    "for i in range(len(a)):\n",
    "    a[i] = int(a[i])\n",
    "    if a[i] % 2 == 0:\n",
    "        print(a[i], end=' ')"
   ]
  },
  {
   "cell_type": "markdown",
   "metadata": {},
   "source": [
    "# Количество положительных"
   ]
  },
  {
   "cell_type": "code",
   "execution_count": null,
   "metadata": {},
   "outputs": [],
   "source": [
    "a = input().split()\n",
    "d = 0\n",
    "for i in range(len(a)):\n",
    "    a[i] = int(a[i])\n",
    "    if a[i] > 0:\n",
    "        d += 1\n",
    "print(d)"
   ]
  },
  {
   "cell_type": "markdown",
   "metadata": {},
   "source": [
    "# Последний максимум"
   ]
  },
  {
   "cell_type": "code",
   "execution_count": null,
   "metadata": {},
   "outputs": [],
   "source": [
    "a = list(map(int, input().split()))\n",
    "maxEl = a[0]\n",
    "indexNum = 0\n",
    "for i in range(0, len(a)):\n",
    "    if a[i] >= maxEl:\n",
    "        maxEl = a[i]\n",
    "        indexNum = i\n",
    "print(maxEl, indexNum)"
   ]
  },
  {
   "cell_type": "markdown",
   "metadata": {},
   "source": [
    "# Больше предыдущего"
   ]
  },
  {
   "cell_type": "code",
   "execution_count": null,
   "metadata": {},
   "outputs": [],
   "source": [
    "a = list(map(int, input().split()))\n",
    "for i in range(len(a)):    \n",
    "    if a[i] > a[i - 1]:        \n",
    "        if i > 0:            \n",
    "            print(str(a[i]), end=' ')\n",
    "            \n",
    "a = [int(i) for i in input().split()]\n",
    "for i in range(1, len(a)):\n",
    "    if a[i] > a[i - 1]:\n",
    "        print(a[i])"
   ]
  },
  {
   "cell_type": "markdown",
   "metadata": {},
   "source": [
    "# Возрастает ли список?"
   ]
  },
  {
   "cell_type": "code",
   "execution_count": 1,
   "metadata": {},
   "outputs": [
    {
     "name": "stdout",
     "output_type": "stream",
     "text": [
      "2 4 5 7 1\n",
      "No\n"
     ]
    }
   ],
   "source": [
    "def IsAscending(abc):\n",
    "    i = 0\n",
    "    B = len(abc)\n",
    "    abc[0] = abc[i]\n",
    "    while i <= B and abc[i] < abc[i + 1]:\n",
    "        C = 'Yes'\n",
    "        i += 1\n",
    "    else:\n",
    "        C = 'No'\n",
    "    return C\n",
    "        \n",
    "A = list(map(int, input().split()))\n",
    "print(IsAscending(A))"
   ]
  },
  {
   "cell_type": "markdown",
   "metadata": {},
   "source": [
    "# Наименьший положительный"
   ]
  },
  {
   "cell_type": "code",
   "execution_count": null,
   "metadata": {},
   "outputs": [],
   "source": [
    "A = list(map(int, input().split()))\n",
    "print(A)\n",
    "B = []\n",
    "for i in range(len(A)):\n",
    "    if A[i] > 0:\n",
    "        B.append(A[i])\n",
    "print(min(B))"
   ]
  },
  {
   "cell_type": "markdown",
   "metadata": {},
   "source": [
    "# Вывести в обратном порядке"
   ]
  },
  {
   "cell_type": "code",
   "execution_count": null,
   "metadata": {},
   "outputs": [],
   "source": [
    "A = input().split()\n",
    "print(' '.join(A[::-1]))"
   ]
  },
  {
   "cell_type": "markdown",
   "metadata": {},
   "source": [
    "# Удалить элемент"
   ]
  },
  {
   "cell_type": "code",
   "execution_count": null,
   "metadata": {},
   "outputs": [],
   "source": [
    "b = list(map(int, input().split()))\n",
    "c = int(input())\n",
    "b.remove(b[c])\n",
    "print(*b)"
   ]
  },
  {
   "cell_type": "markdown",
   "metadata": {},
   "source": [
    "# Ближайшее число"
   ]
  },
  {
   "cell_type": "code",
   "execution_count": null,
   "metadata": {},
   "outputs": [],
   "source": [
    "lenB = int(input())\n",
    "b = list(map(int, input().split()))\n",
    "Num = int(input())\n",
    "i = 0\n",
    "minB = []\n",
    "while i < lenB:\n",
    "    minB.append(abs(Num - b[i]))\n",
    "    i += 1\n",
    "ind = minB.index(min(minB))\n",
    "print(b[ind])"
   ]
  },
  {
   "cell_type": "markdown",
   "metadata": {},
   "source": [
    "# Переставить соседние"
   ]
  },
  {
   "cell_type": "code",
   "execution_count": null,
   "metadata": {},
   "outputs": [],
   "source": [
    "a = list(map(int, input().split()))\n",
    "if len(a) % 2 == 0:\n",
    "    for i in range(0, len(a)-1, 2):\n",
    "        a[i], a[i+1] = a[i+1], a[i]\n",
    "else:\n",
    "    for j in range(0, len(a)-2, 2):\n",
    "        a[j], a[j+1] = a[j+1], a[j]\n",
    "print(* a)"
   ]
  },
  {
   "cell_type": "markdown",
   "metadata": {},
   "source": [
    "# Переставить min и max"
   ]
  },
  {
   "cell_type": "code",
   "execution_count": null,
   "metadata": {},
   "outputs": [],
   "source": [
    "a = list(map(int, input().split()))\n",
    "b = a.index(min(a))\n",
    "c = a.index(max(a))\n",
    "e = a[b] \n",
    "s = a[c]\n",
    "a[b] = s\n",
    "a[c] = e\n",
    "print(*a)"
   ]
  },
  {
   "cell_type": "markdown",
   "metadata": {},
   "source": [
    "# Слияние списков"
   ]
  },
  {
   "cell_type": "code",
   "execution_count": 2,
   "metadata": {},
   "outputs": [
    {
     "name": "stdout",
     "output_type": "stream",
     "text": [
      "1 2 3 4 5\n",
      "6 7 8 9 0\n",
      "[0, 1, 2, 3, 4, 5, 6, 7, 8, 9]\n"
     ]
    }
   ],
   "source": [
    "def merge(A, B):\n",
    "    C = A + B \n",
    "    for i in range(0, len(C) - 1):\n",
    "        for k in range(i + 1, len(C)):\n",
    "            if C[k] < C[i]:\n",
    "                C[k], C[i] = C[i], C[k]\n",
    "                k -= 1\n",
    "    return C\n",
    "\n",
    "    \n",
    "A = list(map(int, input().split()))\n",
    "B = list(map(int, input().split()))\n",
    "\n",
    "print(merge(A, B))"
   ]
  },
  {
   "cell_type": "markdown",
   "metadata": {},
   "source": [
    "# Разворот последовательности"
   ]
  },
  {
   "cell_type": "code",
   "execution_count": null,
   "metadata": {},
   "outputs": [],
   "source": [
    "def rec():\n",
    "    a = int(input())\n",
    "    if a != 0:\n",
    "        rec()\n",
    "        print(a)\n",
    "    else:\n",
    "        print('0')\n",
    "print(rec())"
   ]
  },
  {
   "cell_type": "code",
   "execution_count": null,
   "metadata": {},
   "outputs": [],
   "source": [
    "def turnnum():\n",
    "    n = int(input())\n",
    "    if n == 0:\n",
    "        return 0\n",
    "    else:\n",
    "        turnnum()\n",
    "        print(n)\n",
    "print(turnnum())"
   ]
  },
  {
   "cell_type": "markdown",
   "metadata": {},
   "source": [
    "# Сортировка"
   ]
  },
  {
   "cell_type": "code",
   "execution_count": null,
   "metadata": {},
   "outputs": [],
   "source": [
    "a = int(input())\n",
    "B = list(map(int, input().split()))\n",
    "B.sort()\n",
    "print(*B)"
   ]
  },
  {
   "cell_type": "markdown",
   "metadata": {},
   "source": [
    "# Создание архива"
   ]
  },
  {
   "cell_type": "code",
   "execution_count": 4,
   "metadata": {},
   "outputs": [
    {
     "name": "stdout",
     "output_type": "stream",
     "text": [
      "1 2 3 4 5 6 7 8\n",
      "4\n",
      "1\n",
      "2 1 [1, 4]\n"
     ]
    }
   ],
   "source": [
    "A = list(map(int, input().split()))\n",
    "x = A[0]\n",
    "y = A[1]\n",
    "n = 0\n",
    "b = []\n",
    "j = 0\n",
    "i = 0\n",
    "while n <= (y-1):\n",
    "    z = int(input())\n",
    "    b.append(z)\n",
    "    n += 1\n",
    "b.sort()\n",
    "summm = 0\n",
    "while summm < x:\n",
    "    for i in range(len(b)):\n",
    "        j += 1\n",
    "        summm += i\n",
    "print(j, summm, b)"
   ]
  },
  {
   "cell_type": "markdown",
   "metadata": {},
   "source": [
    "# "
   ]
  },
  {
   "cell_type": "code",
   "execution_count": null,
   "metadata": {},
   "outputs": [],
   "source": [
    "A = list(map(int, input().split()))\n",
    "x = A[0]\n",
    "y = A[1]\n",
    "i = 0\n",
    "n = 0\n",
    "b = []\n",
    "j = 1\n",
    "while n <= (y-1):\n",
    "    z = int(input())\n",
    "    b.append(z)\n",
    "    n += 1\n",
    "b.sort()\n",
    "print(b)"
   ]
  },
  {
   "cell_type": "code",
   "execution_count": null,
   "metadata": {},
   "outputs": [],
   "source": []
  },
  {
   "cell_type": "code",
   "execution_count": null,
   "metadata": {},
   "outputs": [],
   "source": [
    "spisok = open('input.txt', 'r', encoding='utf8')\n",
    "vivod = open('output.txt', 'w', encoding='utf8')\n",
    "lines = spisok.readlines()\n",
    "studs = []\n",
    "for line in lines:\n",
    "    studs.append(line.split())\n",
    "studs = sorted(studs[::], key=lambda x: x[0])\n",
    "for i in studs:\n",
    "    i = i[0:4:]\n",
    "    del i[2]\n",
    "    print(*i)\n",
    "    print(*i, file=vivod)\n",
    "spisok.close()\n",
    "vivod.close()"
   ]
  },
  {
   "cell_type": "markdown",
   "metadata": {},
   "source": [
    "# Сортировка подсчетом"
   ]
  },
  {
   "cell_type": "code",
   "execution_count": 34,
   "metadata": {},
   "outputs": [
    {
     "name": "stdout",
     "output_type": "stream",
     "text": [
      "9 8 7 6 5\n",
      "5 6 7 8 9 "
     ]
    }
   ],
   "source": [
    "def CountSort(A):\n",
    "    grades = [0] * 101\n",
    "    for now in A:\n",
    "        grades[now] += 1\n",
    "    for grade in range(0, 101):\n",
    "        for i in range(grades[grade]):\n",
    "            print(grade, end=' ')\n",
    "A = list(map(int, input().split()))\n",
    "CountSort(A)"
   ]
  },
  {
   "cell_type": "markdown",
   "metadata": {},
   "source": [
    "# Результаты олимпиады"
   ]
  },
  {
   "cell_type": "code",
   "execution_count": null,
   "metadata": {},
   "outputs": [],
   "source": [
    "n = int(input())\n",
    "B = []\n",
    "i = 0\n",
    "while i <= n:\n",
    "    for i in range(n):\n",
    "        d = list(input().split())\n",
    "        B.append(d)\n",
    "        i += 1\n",
    "        C = int(B[i][1])\n",
    "    def sortPoints(A):\n",
    "        return A[1]\n",
    "    # B.sort(key=sortPoints())\n",
    "    print(*B, C)"
   ]
  },
  {
   "cell_type": "markdown",
   "metadata": {},
   "source": [
    "# Результаты олимпиады с помощью структур"
   ]
  },
  {
   "cell_type": "code",
   "execution_count": null,
   "metadata": {},
   "outputs": [],
   "source": [
    "class Man:\n",
    "    bal = 0\n",
    "    name = ''\n",
    "peopleList = []\n",
    "n = int(input())\n",
    "for i in range(n):\n",
    "    tempManData = input().split()\n",
    "    man = Man()\n",
    "    man.bal = int(tempManData[1])\n",
    "    man.name = tempManData[0]\n",
    "    peopleList.append(man)\n",
    "def manKey(man):\n",
    "    return (-man.bal, man.name)\n",
    "\n",
    "peopleList.sort(key=manKey)\n",
    "for man in peopleList:\n",
    "    print(man.name)"
   ]
  },
  {
   "cell_type": "markdown",
   "metadata": {},
   "source": [
    "# Проходной балл"
   ]
  },
  {
   "cell_type": "code",
   "execution_count": 13,
   "metadata": {},
   "outputs": [
    {
     "name": "stdout",
     "output_type": "stream",
     "text": [
      "[210, 200, 200, 200, 150, 150, 120]\n",
      "1\n"
     ]
    }
   ],
   "source": [
    "fin = open('input.txt', 'r', encoding='utf8')\n",
    "fout = open('output.txt', 'w', encoding='utf8')\n",
    "k = int(fin.readline())\n",
    "lines = fin.readlines()\n",
    "studLen = len(lines)\n",
    "\n",
    "\n",
    "class Man:\n",
    "    bal1 = 0\n",
    "    bal2 = 0\n",
    "    bal3 = 0\n",
    "    sumScore = 0\n",
    "    name = ''\n",
    "\n",
    "\n",
    "students = []\n",
    "for i in range(0, studLen):\n",
    "    man = Man()\n",
    "    tempManData = lines[i].split()\n",
    "    man.bal3 = int(tempManData[-3])\n",
    "    man.bal2 = int(tempManData[-2])\n",
    "    man.bal1 = int(tempManData[-1])\n",
    "    man.sumScore = man.bal1 + man.bal2 + man.bal3\n",
    "    if man.bal1 < 40 or man.bal2 < 40 or man.bal3 < 40:\n",
    "        man.sumScore = 0\n",
    "\n",
    "    students.append(man.sumScore)\n",
    "    students.sort(reverse=1)\n",
    "\n",
    "students = [s for s in students if s != 0]\n",
    "students = [s for s in students if s == s]\n",
    "print(students)\n",
    "\n",
    "if len(students) <= k:\n",
    "    print('0')\n",
    "elif len(students) > k:\n",
    "    print('1')\n",
    "elif students[k - 1] == students[k]:\n",
    "    print(students[k - 2])\n",
    "elif students[k - 1] > students[k]:\n",
    "    print(students[k - 1])"
   ]
  },
  {
   "cell_type": "markdown",
   "metadata": {},
   "source": [
    "# множества"
   ]
  },
  {
   "cell_type": "code",
   "execution_count": 49,
   "metadata": {},
   "outputs": [
    {
     "name": "stdout",
     "output_type": "stream",
     "text": [
      "1 2 3 2 1\n",
      "3\n"
     ]
    }
   ],
   "source": [
    "mySet = set(map(int, input().split()))\n",
    "print(len(mySet))"
   ]
  },
  {
   "cell_type": "code",
   "execution_count": null,
   "metadata": {},
   "outputs": [],
   "source": [
    "print(*sorted(set(map(int, input().split())) & set(map(int, input().split()))))"
   ]
  },
  {
   "cell_type": "code",
   "execution_count": null,
   "metadata": {},
   "outputs": [],
   "source": [
    "myList = list(map(int, input().split()))\n",
    "mySet = set()\n",
    "for i in myList:\n",
    "    if i in mySet:\n",
    "        print('YES')\n",
    "    else:\n",
    "        print('NO')\n",
    "    mySet.add(i)\n"
   ]
  },
  {
   "cell_type": "markdown",
   "metadata": {},
   "source": [
    "# Количество слов в тексте"
   ]
  },
  {
   "cell_type": "code",
   "execution_count": 30,
   "metadata": {},
   "outputs": [
    {
     "name": "stdout",
     "output_type": "stream",
     "text": [
      "19\n"
     ]
    }
   ],
   "source": [
    "fin = open('input.txt', 'r', encoding='utf8')\n",
    "s = fin.read()\n",
    "myList = s.split()\n",
    "mySet = set(myList)\n",
    "print(len(mySet))"
   ]
  },
  {
   "cell_type": "markdown",
   "metadata": {},
   "source": [
    "# Угадай число"
   ]
  },
  {
   "cell_type": "code",
   "execution_count": 25,
   "metadata": {},
   "outputs": [
    {
     "name": "stdout",
     "output_type": "stream",
     "text": [
      "5\n"
     ]
    }
   ],
   "source": [
    "file = open('input.txt', 'r', encoding='utf8')\n",
    "n = int(file.readline())\n",
    "a = set(range(n + 1))\n",
    "for lines in file:\n",
    "    numbs = list(lines.split())\n",
    "    if numbs[0] != \"HELP\":\n",
    "        word = file.readline().split()\n",
    "        if word[0] == \"YES\":\n",
    "            a &= set(map(int, (numbs)))\n",
    "        else:\n",
    "            a -= set(map(int, (numbs)))\n",
    "print(*sorted(a))"
   ]
  },
  {
   "cell_type": "markdown",
   "metadata": {},
   "source": [
    "# Полиглоты"
   ]
  },
  {
   "cell_type": "code",
   "execution_count": 16,
   "metadata": {},
   "outputs": [
    {
     "name": "stdout",
     "output_type": "stream",
     "text": [
      "3\n",
      "3\n",
      "eng\n",
      "rus\n",
      "jap\n",
      "2\n",
      "eng\n",
      "rus\n",
      "1\n",
      "eng\n",
      "1\n",
      "eng\n",
      "3\n",
      "eng\n",
      "jap\n",
      "rus\n"
     ]
    }
   ],
   "source": [
    "u = set()\n",
    "common = set()\n",
    "first = int(input())\n",
    "for i in range(first):\n",
    "    empty = set()\n",
    "    num_lang = int(input())\n",
    "    for j in range(num_lang):\n",
    "        empty.add(input())\n",
    "        u = u | empty\n",
    "    if i == 0:\n",
    "        common = empty\n",
    "    else:\n",
    "        common &= empty\n",
    "print(len(common))\n",
    "for i in common:\n",
    "    print(i)\n",
    "print(len(u))\n",
    "for i in u:\n",
    "    print(i)"
   ]
  },
  {
   "cell_type": "markdown",
   "metadata": {},
   "source": [
    "## Телефонные номера"
   ]
  },
  {
   "cell_type": "code",
   "execution_count": 25,
   "metadata": {},
   "outputs": [
    {
     "name": "stdout",
     "output_type": "stream",
     "text": [
      "YES\n",
      "NO\n",
      "YES\n"
     ]
    }
   ],
   "source": [
    "fin = open('input.txt')\n",
    "nums = []\n",
    "for line in fin:\n",
    "    line = (line.replace('-', '').replace('+7', '8').replace('(', '').strip())\n",
    "    line = (line.replace(')', '').replace('8495', '').strip())\n",
    "    nums.append(int(line))\n",
    "tel = nums[0]\n",
    "for i in range(1, len(nums)):\n",
    "    if nums[i] == tel:\n",
    "        print('YES')\n",
    "    else:\n",
    "        print('NO')"
   ]
  },
  {
   "cell_type": "markdown",
   "metadata": {},
   "source": [
    "# Номер появления слова"
   ]
  },
  {
   "cell_type": "code",
   "execution_count": 68,
   "metadata": {},
   "outputs": [
    {
     "name": "stdout",
     "output_type": "stream",
     "text": [
      "0 0 1 0 "
     ]
    }
   ],
   "source": [
    "fin = open('input.txt', 'r', encoding='utf8')\n",
    "words = []\n",
    "myDict = {}\n",
    "for line in fin:\n",
    "    words = line.split()\n",
    "    for word in words:\n",
    "        if word not in myDict:\n",
    "            myDict[word] = 0\n",
    "        else:\n",
    "            myDict[word] += 1\n",
    "        print(myDict[word], end=' ')\n"
   ]
  },
  {
   "cell_type": "markdown",
   "metadata": {},
   "source": [
    "# Словарь синонимов"
   ]
  },
  {
   "cell_type": "code",
   "execution_count": 3,
   "metadata": {},
   "outputs": [
    {
     "name": "stdout",
     "output_type": "stream",
     "text": [
      "1\n",
      "asdf ghjk\n",
      "ghjk\n",
      "asdf\n"
     ]
    }
   ],
   "source": [
    "n, slova = int(input()), dict()\n",
    "for k in range(n):\n",
    "    c = input()\n",
    "    index = c.find(' ')\n",
    "    slova[c[:index]], slova[c[index + 1:]] = {c[index + 1:]}, {c[:index]}\n",
    "print(*slova[input()])\n"
   ]
  },
  {
   "cell_type": "markdown",
   "metadata": {},
   "source": [
    "# Самое частое слово"
   ]
  },
  {
   "cell_type": "code",
   "execution_count": 138,
   "metadata": {},
   "outputs": [
    {
     "name": "stdout",
     "output_type": "stream",
     "text": [
      "\n"
     ]
    }
   ],
   "source": [
    "slova = dict()\n",
    "n = list(input().split())\n",
    "for word in n:\n",
    "    if word in slova:\n",
    "        slova[word] += 1\n",
    "    else:\n",
    "        slova[word] = 1\n",
    "for word in sorted(slova):\n",
    "    print(word, slova[word])\n",
    "        "
   ]
  },
  {
   "cell_type": "code",
   "execution_count": null,
   "metadata": {},
   "outputs": [],
   "source": []
  },
  {
   "cell_type": "code",
   "execution_count": 139,
   "metadata": {},
   "outputs": [
    {
     "name": "stdout",
     "output_type": "stream",
     "text": [
      "8\n"
     ]
    }
   ],
   "source": [
    "fin = open('input.txt', 'r', encoding='utf-8')\n",
    "a = fin.read().strip().split()\n",
    "text = dict()\n",
    "for n in a:\n",
    "    text[n] = text.get(n, 0) + 1\n",
    "print(max(sorted(text.keys()), key=lambda x: text[x]))\n",
    "fin.close()"
   ]
  },
  {
   "cell_type": "markdown",
   "metadata": {},
   "source": [
    "# Количество различных чисел"
   ]
  },
  {
   "cell_type": "code",
   "execution_count": 140,
   "metadata": {},
   "outputs": [
    {
     "name": "stdout",
     "output_type": "stream",
     "text": [
      "\n",
      "0\n"
     ]
    }
   ],
   "source": [
    "print(\n",
    "    len(\n",
    "        set(\n",
    "            map(\n",
    "                int, \n",
    "                input().split()\n",
    "            )\n",
    "        )\n",
    "    )\n",
    ")"
   ]
  },
  {
   "cell_type": "markdown",
   "metadata": {},
   "source": [
    "# Количество слов в тексте"
   ]
  },
  {
   "cell_type": "code",
   "execution_count": 137,
   "metadata": {},
   "outputs": [
    {
     "name": "stdout",
     "output_type": "stream",
     "text": [
      "5\n"
     ]
    }
   ],
   "source": [
    "print(\n",
    "    len(\n",
    "        set(\n",
    "            open(\n",
    "                'input.txt', 'r', encoding='utf8'\n",
    "            ).\n",
    "            read().split()\n",
    "        )\n",
    "    )\n",
    ")"
   ]
  },
  {
   "cell_type": "markdown",
   "metadata": {},
   "source": [
    "# Наименьший нечетный"
   ]
  },
  {
   "cell_type": "code",
   "execution_count": 57,
   "metadata": {},
   "outputs": [
    {
     "name": "stdout",
     "output_type": "stream",
     "text": [
      "5 4 3 2 1 0 -1 -2 -3\n",
      "-3\n"
     ]
    }
   ],
   "source": [
    "print(\n",
    "    min(\n",
    "        filter(\n",
    "            lambda x: (x%2 == 1), \n",
    "            map(\n",
    "                int, \n",
    "                input().split()\n",
    "            )\n",
    "        )\n",
    "    )\n",
    ")\n"
   ]
  },
  {
   "cell_type": "markdown",
   "metadata": {},
   "source": [
    "# Ноль или не ноль"
   ]
  },
  {
   "cell_type": "code",
   "execution_count": 73,
   "metadata": {},
   "outputs": [
    {
     "name": "stdout",
     "output_type": "stream",
     "text": [
      "False\n"
     ]
    }
   ],
   "source": [
    "print(\n",
    "    any(\n",
    "        map(\n",
    "            lambda x: x == 0, \n",
    "            list(\n",
    "                map(\n",
    "                    int, \n",
    "                    open(\n",
    "                        'input.txt', 'r', encoding='utf-8').read().split()\n",
    "                )\n",
    "            )\n",
    "        )\n",
    "    )\n",
    ")"
   ]
  },
  {
   "cell_type": "markdown",
   "metadata": {},
   "source": [
    "# Произведение пятых степеней"
   ]
  },
  {
   "cell_type": "code",
   "execution_count": 94,
   "metadata": {},
   "outputs": [
    {
     "name": "stdout",
     "output_type": "stream",
     "text": [
      "2 1 1 2 2\n",
      "32768\n"
     ]
    }
   ],
   "source": [
    "from functools import reduce\n",
    "\n",
    "print(\n",
    "    (\n",
    "        reduce(\n",
    "            lambda x, y: (x * y),\n",
    "            map(\n",
    "                int,\n",
    "                input().split()), 1\n",
    "        )\n",
    "    ) ** 5\n",
    ")\n"
   ]
  },
  {
   "cell_type": "markdown",
   "metadata": {},
   "source": [
    "# XOR"
   ]
  },
  {
   "cell_type": "code",
   "execution_count": 95,
   "metadata": {},
   "outputs": [
    {
     "name": "stdout",
     "output_type": "stream",
     "text": [
      "0 0 1 1\n",
      "0 1 0 1\n",
      "0 1 1 0\n"
     ]
    }
   ],
   "source": [
    "print(\n",
    "    *map(\n",
    "        int, \n",
    "        map(\n",
    "            lambda x, y: x ^ y, \n",
    "            map(\n",
    "                int, \n",
    "                input().split()), \n",
    "            map(\n",
    "                int, \n",
    "                input().split()\n",
    "            )\n",
    "        )\n",
    "    )\n",
    ")"
   ]
  },
  {
   "cell_type": "code",
   "execution_count": null,
   "metadata": {},
   "outputs": [],
   "source": []
  },
  {
   "cell_type": "code",
   "execution_count": 5,
   "metadata": {},
   "outputs": [
    {
     "name": "stdout",
     "output_type": "stream",
     "text": [
      "1 0\n",
      "3 0\n",
      "0 0\n"
     ]
    }
   ],
   "source": [
    "class Matrix:\n",
    "    def __init__(self, re=0, im=0):\n",
    "        self.re = re\n",
    "        self.im = im\n",
    "        \n",
    "a = Matrix(1, 0)\n",
    "b = Matrix(3)\n",
    "c = Matrix()\n",
    "print(a.re, a.im)\n",
    "print(b.re, b.im)\n",
    "print(c.re, c.im)"
   ]
  },
  {
   "cell_type": "code",
   "execution_count": null,
   "metadata": {},
   "outputs": [],
   "source": []
  },
  {
   "cell_type": "code",
   "execution_count": null,
   "metadata": {},
   "outputs": [],
   "source": []
  },
  {
   "cell_type": "code",
   "execution_count": null,
   "metadata": {},
   "outputs": [],
   "source": []
  },
  {
   "cell_type": "code",
   "execution_count": null,
   "metadata": {},
   "outputs": [],
   "source": []
  },
  {
   "cell_type": "code",
   "execution_count": null,
   "metadata": {},
   "outputs": [],
   "source": []
  }
 ],
 "metadata": {
  "kernelspec": {
   "display_name": "Python 3",
   "language": "python",
   "name": "python3"
  },
  "language_info": {
   "codemirror_mode": {
    "name": "ipython",
    "version": 3
   },
   "file_extension": ".py",
   "mimetype": "text/x-python",
   "name": "python",
   "nbconvert_exporter": "python",
   "pygments_lexer": "ipython3",
   "version": "3.7.4"
  }
 },
 "nbformat": 4,
 "nbformat_minor": 2
}
